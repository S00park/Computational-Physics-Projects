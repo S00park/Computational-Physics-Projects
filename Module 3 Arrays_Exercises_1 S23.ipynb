{
 "cells": [
  {
   "cell_type": "markdown",
   "metadata": {},
   "source": [
    "# Module 3 Exercises (Arrays) (1)\n",
    "Please use Module 3 and online references to complete the following exercises. Before you start, type in the code to load the NumPy library."
   ]
  },
  {
   "cell_type": "code",
   "execution_count": 1,
   "metadata": {},
   "outputs": [],
   "source": [
    "# import numpy\n",
    "import numpy as np"
   ]
  },
  {
   "cell_type": "markdown",
   "metadata": {},
   "source": [
    "### Exercise 1\n",
    "This exercise is almost identical to Exercise 1 in Module 2, except we will use a **NumPy list**, as opposed to a regular Python list. You will find that the commands from the previous lab don't all work here, because NumPy lists are different from regular Python lists. We encourage you to use **Google** to explore how to complete these tasks if the commands from Module 2 don't work. \n",
    "\n",
    "Write computer code in the cell below to complete the following tasks. Please print the result of each step to screen.\n",
    "\n",
    "(a) Create a **NumPy list** of elements with numerical values of 5, 3, 6, 1 and 8, and name it `myNumPyList`.\n",
    "\n",
    "(b) Make a copy of `myNumPyList` and give it a **new name**.\n",
    "\n",
    "(c) Update `myNumPyList` by making the second element in the list 7 times as large.\n",
    "\n",
    "(d) Update `myNumPyList` again by adding 10 to the last element in the list.\n",
    "\n",
    "(e) Update `myNumPyList` again by reversing the order of the elements.\n",
    "\n",
    "(f) Update `myNumPyList` again by removing the first element from the list.\n",
    "\n",
    "(g) Print the copy of `myNumPyList` from part (b) to see if it has been affected by parts (c) to (f). If it has been affected, please change your code for part (b) so that your copy is a true copy."
   ]
  },
  {
   "cell_type": "code",
   "execution_count": 15,
   "metadata": {},
   "outputs": [
    {
     "name": "stdout",
     "output_type": "stream",
     "text": [
      "[5, 3, 6, 1, 8]\n",
      "[ 1  6 21  5]\n"
     ]
    }
   ],
   "source": [
    "# Exercise 1(a): Create a NumPy list of elements with numerical values of 5, 3, 6, 1 and 8,\n",
    "\n",
    "myNumPyList=[5,3,6,1,8]\n",
    "newNumPyList=myNumPyList.copy()\n",
    "myNumPyList[1]=myNumPyList[1]*7\n",
    "myNumPyList[-1]=myNumPyList[-1]+10\n",
    "myNumPyList=np.flip(myNumPyList)\n",
    "myNumPyList=np.delete(myNumPyList,0)\n",
    "print(newNumPyList)\n",
    "print(myNumPyList)"
   ]
  },
  {
   "cell_type": "code",
   "execution_count": 16,
   "metadata": {},
   "outputs": [],
   "source": [
    "# Exercise 1(b): Make a copy of myNumPyList\n",
    "newNumPyList=myNumPyList.copy()"
   ]
  },
  {
   "cell_type": "code",
   "execution_count": 17,
   "metadata": {},
   "outputs": [],
   "source": [
    "# Exercise 1(c): Update myNumPyList by making the second element in the list 7 times as large.\n",
    "myNumPyList[1]=myNumPyList[1]*7"
   ]
  },
  {
   "cell_type": "code",
   "execution_count": 18,
   "metadata": {},
   "outputs": [],
   "source": [
    "# Exercise 1(d): Update myNumPyList again by adding 10 to the last element in the list.\n",
    "myNumPyList[-1]=myNumPyList[-1]+10"
   ]
  },
  {
   "cell_type": "code",
   "execution_count": 19,
   "metadata": {},
   "outputs": [],
   "source": [
    "# Exercise 1(e): Update myNumPyList again by reversing the order of the elements.\n",
    "myNumPyList=np.flip(myNumPyList)"
   ]
  },
  {
   "cell_type": "code",
   "execution_count": 20,
   "metadata": {},
   "outputs": [],
   "source": [
    "# Exercise 1(f): Update myNumPyList again by removing the first element from the list.\n",
    "myNumPyList=np.delete(myNumPyList,0)"
   ]
  },
  {
   "cell_type": "code",
   "execution_count": 21,
   "metadata": {},
   "outputs": [],
   "source": [
    "# Exercise 1(g): Print the copy of `myNumPyList` from part (b) to see if it has been affected by parts (c) to (f). \n",
    "# If it has been affected, please change your code for part (b) so that your copy is a true copy.\n",
    "myNumPyList=np.delete(myNumPyList,0)"
   ]
  },
  {
   "cell_type": "markdown",
   "metadata": {},
   "source": [
    "### Exercise 2\n",
    "Write computer code in the cell below to complete the following tasks.\n",
    "\n",
    "(a) Use two different commands — **`np.arange`** and **`np.linspace`** — to create a regular list of integers from 1 to 25 with an increment of 1. How many elements are there in the list? (Hint: Use a Python command.)\n",
    "\n",
    "(b) Use two different commands — **`np.arange`** and **`np.linspace`** — to create  a regular list of integers from 1 to 25 with an increment of 4. How many elements are there in the list? (Hint: Use a Python command.)\n",
    "\n",
    "(c) Create a list of numbers in the range of `[0.25, 1.33)` with an increment of 0.22. How many elements are there in the list? (Use the most convenient command to create your list.)\n",
    "\n",
    "(d) Repeat the previous task except the numbers in the list go backwards from 0.25 towards -1.33. \n",
    "\n",
    "(e) Comment on the similarities and the differences between **`np.arange`** and **`np.linspace`**."
   ]
  },
  {
   "cell_type": "code",
   "execution_count": 32,
   "metadata": {},
   "outputs": [
    {
     "name": "stdout",
     "output_type": "stream",
     "text": [
      "[ 1  2  3  4  5  6  7  8  9 10 11 12 13 14 15 16 17 18 19 20 21 22 23 24\n",
      " 25]\n",
      "25\n",
      "[ 1.  2.  3.  4.  5.  6.  7.  8.  9. 10. 11. 12. 13. 14. 15. 16. 17. 18.\n",
      " 19. 20. 21. 22. 23. 24. 25.]\n",
      "25\n"
     ]
    }
   ],
   "source": [
    "# Exercise 2(a): Use two different commands — np.arange and np.linspace - create a regular list of integers \n",
    "#from 1 to 25 with an increment of 1. How many elements are there in the list?\n",
    "\n",
    "num=np.arange(1,26,1)\n",
    "print(num)\n",
    "print(len(num))\n",
    "lin=np.linspace(1,25,25)\n",
    "print(lin)\n",
    "print(len(lin))"
   ]
  },
  {
   "cell_type": "code",
   "execution_count": 39,
   "metadata": {},
   "outputs": [
    {
     "name": "stdout",
     "output_type": "stream",
     "text": [
      "[ 1  5  9 13 17 21 25]\n",
      "7\n",
      "[ 1.  5.  9. 13. 17. 21. 25.]\n",
      "7\n"
     ]
    }
   ],
   "source": [
    "# Exercise 2(b): Use two different commands — np.arange and np.linspace - create a regular list of integers \n",
    "#from 1 to 25 with an increment of 4. How many elements are there in the list?\n",
    "num2=np.arange(1,26,4)\n",
    "print(num2)\n",
    "print(len(num2))\n",
    "lin2=np.linspace(1,25,7)\n",
    "print(lin2)\n",
    "print(len(lin2))"
   ]
  },
  {
   "cell_type": "code",
   "execution_count": 51,
   "metadata": {},
   "outputs": [
    {
     "name": "stdout",
     "output_type": "stream",
     "text": [
      "[0.25 0.47 0.69 0.91 1.13]\n",
      "5\n",
      "[0.25 0.52 0.79 1.06 1.33]\n"
     ]
    }
   ],
   "source": [
    "# Exercise 2(c)&(d):\n",
    "num3=np.arange(0.25,1.33,0.22)\n",
    "print(num3)\n",
    "print(len(num3))\n",
    "lin3=np.linspace(0.25,1.33,5)\n",
    "print(lin3)\n",
    "\n",
    "#linspace is more useful when you want exact spacing and a specific length in mind for a list\n",
    "#arange is a lot more straight forward as you can just put in the increment you desire"
   ]
  },
  {
   "cell_type": "markdown",
   "metadata": {},
   "source": [
    "Comments (Part (e)):\n",
    "\n"
   ]
  },
  {
   "cell_type": "markdown",
   "metadata": {},
   "source": [
    "### Exercise 3\n",
    "The $x$-coordinate of an object is given by the following equation:\n",
    "\n",
    "$$x(t)= t^2-2t+3,\\ \\ \\ \\ \\ \\ \\ \\ \\ \\ \\ \\ \\ \\  (1)$$\n",
    "\n",
    "where $t$ is time. \n",
    "\n",
    "(a) Create a list for `t` from `[0,3]` (include 3) with an increment of 0.2, and create the corresponding list for `x` using Eq. (1). Print both lists to screen.\n",
    "\n",
    "(b) Find the value of $x(2)$, and comment on the difference in the meanings between $x(2)$ and `x[2]`. \n",
    "\n",
    "(c) Use the command `np.min` to find the smallest element in `x`. Examine the printed lists of `t` and `x` to find at what value of `t` when `x` is minimum. (**Optional**) If you want more challenge, try to find online how the command `np.where` works and write computer code to do the last part of the task (finding the value of `t` when `x` is minimum).  "
   ]
  },
  {
   "cell_type": "code",
   "execution_count": 70,
   "metadata": {},
   "outputs": [
    {
     "name": "stdout",
     "output_type": "stream",
     "text": [
      "[3.   2.64 2.36 2.16 2.04 2.   2.04 2.16 2.36 2.64 3.   3.44 3.96 4.56\n",
      " 5.24 6.  ]\n",
      "[0.  0.2 0.4 0.6 0.8 1.  1.2 1.4 1.6 1.8 2.  2.2 2.4 2.6 2.8 3. ]\n",
      "2.36\n",
      "2.0\n"
     ]
    }
   ],
   "source": [
    "# Exercise 3\n",
    "t=np.arange(0,3.1,0.2)\n",
    "\n",
    "x=t**2-2*t+3\n",
    "print(x)\n",
    "print(t)\n",
    "print(x[2])\n",
    "#x(2) would throw an error because an array is no callable\n",
    "\n",
    "print(np.min(x))\n",
    "#when t=1, x is at its min, 2\n"
   ]
  },
  {
   "cell_type": "markdown",
   "metadata": {},
   "source": [
    "Part (b) comments:"
   ]
  }
 ],
 "metadata": {
  "kernelspec": {
   "display_name": "Python 3 (ipykernel)",
   "language": "python",
   "name": "python3"
  },
  "language_info": {
   "codemirror_mode": {
    "name": "ipython",
    "version": 3
   },
   "file_extension": ".py",
   "mimetype": "text/x-python",
   "name": "python",
   "nbconvert_exporter": "python",
   "pygments_lexer": "ipython3",
   "version": "3.9.7"
  }
 },
 "nbformat": 4,
 "nbformat_minor": 2
}
