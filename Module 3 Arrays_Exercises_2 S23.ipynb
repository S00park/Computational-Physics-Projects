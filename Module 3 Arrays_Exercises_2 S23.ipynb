{
 "cells": [
  {
   "cell_type": "markdown",
   "metadata": {},
   "source": [
    "# Module 3 Exercises (Arrays) (2)\n",
    "Please use Module 3 and online references to complete the following exercises. "
   ]
  },
  {
   "cell_type": "code",
   "execution_count": 13,
   "metadata": {},
   "outputs": [],
   "source": [
    "# import numpy - this is the last time we will tell you explicitly to import numpy. \n",
    "import numpy as np"
   ]
  },
  {
   "cell_type": "markdown",
   "metadata": {},
   "source": [
    "## Exercise 1\n",
    "(a) Create a variable `totalNum` and set its value to 10. Then create a list of `totalNum` (=10 here) random numbers in the range of `[0,1)`. (The value of totalNum will be changed later.) Print the list.\n",
    "\n",
    "(b) Change the signs of all the numbers with odd indexes in the list. Print the list again.\n",
    "\n",
    "(c) Print the first 6 elements in the list.\n",
    "\n",
    "(d) Print the last 6 elements in the list.\n",
    "\n",
    "(e) Find the mean and the standard deviation of the list. (Please look up the NumPy commands for mean and standard deviation if you are not familiar with them.)\n",
    "\n",
    "(f) Modify your code in parts (a) so that the list now contains 1000 random numbers. (You may want to comment out the print statements in parts (a) and (b) for this part.) Re-run parts (a-e). Is the mean close to your expectation? \n",
    "\n",
    "**Note:** This is something we do frequently in coding. We write some code using a short list to make sure that everything is working properly by using print statements. We then switch to a much longer list by changing one line of code near the top and comment out the print statements that we no longer need. \n",
    "\n",
    "**Good coding practice:** Create variable names for all quantities in the main part of the code, and assign numerical values to these variables at beginning part of the code."
   ]
  },
  {
   "cell_type": "code",
   "execution_count": 28,
   "metadata": {},
   "outputs": [
    {
     "name": "stdout",
     "output_type": "stream",
     "text": [
      "[0.01285243 0.5761494  0.76667523 0.89634831 0.41489373 0.57159051\n",
      " 0.54604798 0.95739097 0.68244703 0.58357799 0.01432298 0.37043755\n",
      " 0.17678929 0.74815656 0.93007021 0.95420419 0.66400625 0.85962281\n",
      " 0.01833077 0.55768752 0.45871784 0.18941717 0.37520169 0.41122223\n",
      " 0.85068615 0.02630485 0.10216959 0.79649596 0.20692269 0.48297832\n",
      " 0.25516256 0.72146964 0.3827332  0.83666398 0.04961522 0.14136313\n",
      " 0.90077069 0.40500318 0.36698979 0.56837377 0.78818794 0.18158208\n",
      " 0.04106256 0.14225343 0.98419401 0.99132962 0.22053705 0.18863012\n",
      " 0.40112376 0.01351497 0.89020886 0.80827934 0.03527507 0.17439989\n",
      " 0.77733783 0.54494861 0.91772144 0.39172772 0.49313755 0.54714954\n",
      " 0.04745599 0.40849154 0.19803309 0.58217278 0.57670821 0.37632774\n",
      " 0.45113381 0.57919374 0.95869754 0.64403113 0.2030588  0.45425907\n",
      " 0.06438845 0.31556738 0.06026963 0.95311675 0.21440552 0.67254324\n",
      " 0.52835243 0.65436825 0.24634142 0.09493054 0.97865847 0.78351895\n",
      " 0.39972878 0.25771126 0.39865615 0.8073435  0.80956545 0.59406651\n",
      " 0.01014452 0.75287349 0.21757543 0.33933029 0.79881856 0.36893701\n",
      " 0.93755668 0.51757382 0.47251385 0.76651271]\n",
      "[-0.01285243  0.5761494  -0.76667523  0.89634831 -0.41489373  0.57159051\n",
      " -0.54604798  0.95739097 -0.68244703  0.58357799 -0.01432298  0.37043755\n",
      " -0.17678929  0.74815656 -0.93007021  0.95420419 -0.66400625  0.85962281\n",
      " -0.01833077  0.55768752 -0.45871784  0.18941717 -0.37520169  0.41122223\n",
      " -0.85068615  0.02630485 -0.10216959  0.79649596 -0.20692269  0.48297832\n",
      " -0.25516256  0.72146964 -0.3827332   0.83666398 -0.04961522  0.14136313\n",
      " -0.90077069  0.40500318 -0.36698979  0.56837377 -0.78818794  0.18158208\n",
      " -0.04106256  0.14225343 -0.98419401  0.99132962 -0.22053705  0.18863012\n",
      " -0.40112376  0.01351497 -0.89020886  0.80827934 -0.03527507  0.17439989\n",
      " -0.77733783  0.54494861 -0.91772144  0.39172772 -0.49313755  0.54714954\n",
      " -0.04745599  0.40849154 -0.19803309  0.58217278 -0.57670821  0.37632774\n",
      " -0.45113381  0.57919374 -0.95869754  0.64403113 -0.2030588   0.45425907\n",
      " -0.06438845  0.31556738 -0.06026963  0.95311675 -0.21440552  0.67254324\n",
      " -0.52835243  0.65436825 -0.24634142  0.09493054 -0.97865847  0.78351895\n",
      " -0.39972878  0.25771126 -0.39865615  0.8073435  -0.80956545  0.59406651\n",
      " -0.01014452  0.75287349 -0.21757543  0.33933029 -0.79881856  0.36893701\n",
      " -0.93755668  0.51757382 -0.47251385  0.76651271]\n"
     ]
    }
   ],
   "source": [
    "# Exercise 1(a). Create a variable totalNum and set its value to 10.\n",
    "# Create a list of totalNum (=10) random numbers in the range of [0,1). \n",
    "# Print the list.\n",
    "\n",
    "totalNum=100\n",
    "num=np.random.rand(totalNum)\n",
    "\n",
    "num2=num.copy()\n",
    "print(num2)\n",
    "\n",
    "num2[::2]*=-1\n",
    "\n",
    "print(num2)"
   ]
  },
  {
   "cell_type": "code",
   "execution_count": 29,
   "metadata": {},
   "outputs": [
    {
     "name": "stdout",
     "output_type": "stream",
     "text": [
      "[0.01285243 0.5761494  0.76667523 0.89634831 0.41489373 0.57159051\n",
      " 0.54604798 0.95739097 0.68244703 0.58357799 0.01432298 0.37043755\n",
      " 0.17678929 0.74815656 0.93007021 0.95420419 0.66400625 0.85962281\n",
      " 0.01833077 0.55768752 0.45871784 0.18941717 0.37520169 0.41122223\n",
      " 0.85068615 0.02630485 0.10216959 0.79649596 0.20692269 0.48297832\n",
      " 0.25516256 0.72146964 0.3827332  0.83666398 0.04961522 0.14136313\n",
      " 0.90077069 0.40500318 0.36698979 0.56837377 0.78818794 0.18158208\n",
      " 0.04106256 0.14225343 0.98419401 0.99132962 0.22053705 0.18863012\n",
      " 0.40112376 0.01351497 0.89020886 0.80827934 0.03527507 0.17439989\n",
      " 0.77733783 0.54494861 0.91772144 0.39172772 0.49313755 0.54714954\n",
      " 0.04745599 0.40849154 0.19803309 0.58217278 0.57670821 0.37632774\n",
      " 0.45113381 0.57919374 0.95869754 0.64403113 0.2030588  0.45425907\n",
      " 0.06438845 0.31556738 0.06026963 0.95311675 0.21440552 0.67254324\n",
      " 0.52835243 0.65436825 0.24634142 0.09493054 0.97865847 0.78351895\n",
      " 0.39972878 0.25771126 0.39865615 0.8073435  0.80956545 0.59406651\n",
      " 0.01014452 0.75287349 0.21757543 0.33933029 0.79881856 0.36893701\n",
      " 0.93755668 0.51757382 0.47251385 0.76651271]\n",
      "[-0.01285243  0.5761494  -0.76667523  0.89634831 -0.41489373  0.57159051\n",
      " -0.54604798  0.95739097 -0.68244703  0.58357799 -0.01432298  0.37043755\n",
      " -0.17678929  0.74815656 -0.93007021  0.95420419 -0.66400625  0.85962281\n",
      " -0.01833077  0.55768752 -0.45871784  0.18941717 -0.37520169  0.41122223\n",
      " -0.85068615  0.02630485 -0.10216959  0.79649596 -0.20692269  0.48297832\n",
      " -0.25516256  0.72146964 -0.3827332   0.83666398 -0.04961522  0.14136313\n",
      " -0.90077069  0.40500318 -0.36698979  0.56837377 -0.78818794  0.18158208\n",
      " -0.04106256  0.14225343 -0.98419401  0.99132962 -0.22053705  0.18863012\n",
      " -0.40112376  0.01351497 -0.89020886  0.80827934 -0.03527507  0.17439989\n",
      " -0.77733783  0.54494861 -0.91772144  0.39172772 -0.49313755  0.54714954\n",
      " -0.04745599  0.40849154 -0.19803309  0.58217278 -0.57670821  0.37632774\n",
      " -0.45113381  0.57919374 -0.95869754  0.64403113 -0.2030588   0.45425907\n",
      " -0.06438845  0.31556738 -0.06026963  0.95311675 -0.21440552  0.67254324\n",
      " -0.52835243  0.65436825 -0.24634142  0.09493054 -0.97865847  0.78351895\n",
      " -0.39972878  0.25771126 -0.39865615  0.8073435  -0.80956545  0.59406651\n",
      " -0.01014452  0.75287349 -0.21757543  0.33933029 -0.79881856  0.36893701\n",
      " -0.93755668  0.51757382 -0.47251385  0.76651271]\n"
     ]
    }
   ],
   "source": [
    "# Exercise 1(b).  Change the signs of all the numbers with odd indexes in the list. Print the list again.\n",
    "num2=num.copy()\n",
    "print(num2)\n",
    "\n",
    "num2[::2]*=-1\n",
    "\n",
    "print(num2)"
   ]
  },
  {
   "cell_type": "code",
   "execution_count": 22,
   "metadata": {},
   "outputs": [
    {
     "name": "stdout",
     "output_type": "stream",
     "text": [
      "[-0.08470772  0.76551582 -0.00332604  0.90014625 -0.47465628  0.49428576]\n"
     ]
    }
   ],
   "source": [
    "# Exercise 1(c). Print the first 6 elements in the list.\n",
    "print(num2[:6])"
   ]
  },
  {
   "cell_type": "code",
   "execution_count": 26,
   "metadata": {},
   "outputs": [
    {
     "name": "stdout",
     "output_type": "stream",
     "text": [
      "[-0.47465628  0.49428576 -0.42811211  0.83228494 -0.47785195  0.1875646 ]\n"
     ]
    }
   ],
   "source": [
    "# Exercise 1(d). Print the last 6 elements in the list.\n",
    "print(num2[-6:])"
   ]
  },
  {
   "cell_type": "code",
   "execution_count": 30,
   "metadata": {},
   "outputs": [
    {
     "name": "stdout",
     "output_type": "stream",
     "text": [
      "0.5696201322716149\n",
      "0.04264888890195517\n"
     ]
    }
   ],
   "source": [
    "# Exercise 1(e). Find the mean and the standard deviation of the list. \n",
    "standard = np.std(num2)\n",
    "print(standard)\n",
    "\n",
    "mean = np.mean(num2)\n",
    "print(mean)\n"
   ]
  },
  {
   "cell_type": "markdown",
   "metadata": {},
   "source": [
    "Exercise 1(f) Modify your code in parts (a) so that the list now contains 1000 random numbers. (You may want to comment out the print statements in parts (a) and (b) for this part.) Re-run parts (a-e). Is the mean close to your expectation?\n"
   ]
  },
  {
   "cell_type": "markdown",
   "metadata": {},
   "source": [
    "## Exercise 2\n",
    "In Module 3, we learned how to concatenate two lists together to form a single list by using the `np.hstack` command. There is another command — **`np.concatenate`** — that can perform the same task, but with a slight variation. Please look up `np.concatenate` online and use it to complete the following tasks:"
   ]
  },
  {
   "cell_type": "code",
   "execution_count": 33,
   "metadata": {},
   "outputs": [
    {
     "name": "stdout",
     "output_type": "stream",
     "text": [
      "[0. 0. 0. 1. 1. 1. 1. 1.]\n"
     ]
    }
   ],
   "source": [
    "# Exercise 2(a). Use np.concatenate to concatenate the lists myZeros and myOnes below. \n",
    "# Print the concatenated list.\n",
    "\n",
    "myZeros = np.zeros(3)       #create a list of 3 zeros\n",
    "myOnes = np.ones(5)         #create a list of 5 ones\n",
    "\n",
    "np.concatenate((myZeros,myOnes))\n",
    "print(np.concatenate((myZeros,myOnes)))"
   ]
  },
  {
   "cell_type": "code",
   "execution_count": 42,
   "metadata": {},
   "outputs": [
    {
     "name": "stdout",
     "output_type": "stream",
     "text": [
      "[ 0.  0.  0. 22.]\n"
     ]
    }
   ],
   "source": [
    "#Sorry I accidently cut this part out\n",
    "\n",
    "print(np.concatenate((myZeros,[22])))"
   ]
  },
  {
   "cell_type": "markdown",
   "metadata": {},
   "source": [
    "Part (c): Comment on the similarities and the differences between np.concatenate and np.hstack.\n"
   ]
  },
  {
   "cell_type": "code",
   "execution_count": null,
   "metadata": {},
   "outputs": [],
   "source": [
    "#for 1-D arrays it concatenates along the first axis"
   ]
  },
  {
   "cell_type": "markdown",
   "metadata": {},
   "source": [
    "## Exercise 3\n",
    "The cell below contains a Python list (not a NumPy list) of names of all students in our class. The goal is to print random groups of two students per group. (Each student's name should only appear once, of course.) \n",
    "\n",
    "**Please plan and discuss strategy with your group members on the whiteboard before you start to code.**\n",
    "\n",
    "**Hint**: The NumPy command `np.random.shuffle` may be helpful for this task. Please look it up."
   ]
  },
  {
   "cell_type": "code",
   "execution_count": 58,
   "metadata": {},
   "outputs": [
    {
     "name": "stdout",
     "output_type": "stream",
     "text": [
      "[['Nina' 'Ceiligh']\n",
      " ['Dani' 'Soo']\n",
      " ['Treya' 'Zoë']]\n",
      "[['Nina' 'Ceiligh']\n",
      " ['Nina' 'Ceiligh']\n",
      " ['Dani' 'Soo']]\n"
     ]
    }
   ],
   "source": [
    "# Exercise 3\n",
    "import random\n",
    "\n",
    "Names = ['Nina','Ceiligh','Dani','Soo','Treya','Zoë']\n",
    "\n",
    "arr = np.array(Names)\n",
    "\n",
    "names2=arr.reshape(3,2)\n",
    "print(names2)\n",
    "\n",
    "\n",
    "random.shuffle(names2)\n",
    "\n",
    "print(names2)\n",
    "\n",
    "\n"
   ]
  },
  {
   "cell_type": "markdown",
   "metadata": {},
   "source": [
    "## Exercise 4 (Optional)\n",
    "If you have studied linear algebra and would like to explore matrix operations with NumPy, please try this exercise.\n"
   ]
  },
  {
   "cell_type": "code",
   "execution_count": 20,
   "metadata": {},
   "outputs": [],
   "source": [
    "# Exercise 4a. Create a row vector of 3 elements with values of 1, 2, and 3, respectively. Call this rowVector \n",
    "#and print it to screen.\n"
   ]
  },
  {
   "cell_type": "code",
   "execution_count": 21,
   "metadata": {},
   "outputs": [],
   "source": [
    "# Exercise 4b. Create a column vector of that is the transpose of rowVector. Call this colVector and print it to \n",
    "#screen. (Please look up the NumPy command for the transpose operation.)\n"
   ]
  },
  {
   "cell_type": "code",
   "execution_count": 22,
   "metadata": {},
   "outputs": [],
   "source": [
    "# Exercise 4c. Print the return of np.dot(rowVector, colVector) to screen. Does the result agree with your \n",
    "#expectation?\n"
   ]
  },
  {
   "cell_type": "code",
   "execution_count": 18,
   "metadata": {},
   "outputs": [],
   "source": [
    "# Exercise 4d. Print the return of np.dot(colVector, rowVector) to screen. Does the result agree with your \n",
    "#expectation?\n"
   ]
  },
  {
   "cell_type": "markdown",
   "metadata": {},
   "source": [
    "Exercise 4e: If you attempt to do rowVector*rowVector or colVector*colVector, Python is perfectly happy to do it for you. If, however, you attemp to do np.dot(rowVector, rowVector) or np.dot(colVector, colVector), you will get an error message. Why? What is the difference between these two types of multiplication (np.dot and *)?"
   ]
  }
 ],
 "metadata": {
  "kernelspec": {
   "display_name": "Python 3 (ipykernel)",
   "language": "python",
   "name": "python3"
  },
  "language_info": {
   "codemirror_mode": {
    "name": "ipython",
    "version": 3
   },
   "file_extension": ".py",
   "mimetype": "text/x-python",
   "name": "python",
   "nbconvert_exporter": "python",
   "pygments_lexer": "ipython3",
   "version": "3.9.7"
  }
 },
 "nbformat": 4,
 "nbformat_minor": 2
}
