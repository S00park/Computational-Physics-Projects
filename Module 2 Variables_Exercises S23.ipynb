{
 "cells": [
  {
   "cell_type": "markdown",
   "metadata": {},
   "source": [
    "# Module 2 Exercises (Variables)\n",
    "**Please use Module 2 (Variables) as a reference to complete the following exercises. Before you start, please run the following cell to load the NumPy library.**"
   ]
  },
  {
   "cell_type": "code",
   "execution_count": 14,
   "metadata": {},
   "outputs": [],
   "source": [
    "import numpy as np\n"
   ]
  },
  {
   "cell_type": "code",
   "execution_count": 18,
   "metadata": {},
   "outputs": [
    {
     "name": "stdout",
     "output_type": "stream",
     "text": [
      "1 5\n"
     ]
    }
   ],
   "source": [
    "#Group Exercise\n",
    "\n",
    "v1 = 5\n",
    "v2 = 1 \n",
    "\n",
    "v1,v2 = v2,v1\n",
    "\n",
    "print(v1,v2)"
   ]
  },
  {
   "cell_type": "markdown",
   "metadata": {},
   "source": [
    "### Exercise 1\n",
    "Write Python code in the cell below to complete the following tasks. Please print the result of each step to screen.\n",
    "\n",
    "(a) Create a Python list of elements with numerical values of 5, 3, 6, 1 and 8, and name it `myList`.\n",
    "\n",
    "(b) Make a copy of `myList` and give it a new name.\n",
    "\n",
    "(c) Update `myList` by making the second element in the list 7 times as large.\n",
    "\n",
    "(d) Update `myList` again by adding 10 to the last element in the list.\n",
    "\n",
    "(e) Update `myList` again by reversing the order of the elements.\n",
    "\n",
    "(f) Update `myList` again by removing the first element from the list.\n",
    "\n",
    "(g) Print the copy of `myList` from part (b) to see if it has been affected by parts (c) to (f). If it has been affected, please change your code for part (b) so that your copy is a true copy."
   ]
  },
  {
   "cell_type": "code",
   "execution_count": 9,
   "metadata": {},
   "outputs": [
    {
     "name": "stdout",
     "output_type": "stream",
     "text": [
      "[5, 3, 6, 1, 8]\n",
      "[5, 3, 6, 1, 8]\n",
      "[5, 21, 6, 1, 8]\n",
      "[8, 1, 6, 21, 5]\n",
      "[1, 6, 21, 5]\n",
      "[5, 3, 6, 1, 8]\n"
     ]
    }
   ],
   "source": [
    "# Exercise 1\n",
    "myList=[5,3,6,1,8]\n",
    "print(myList)\n",
    "\n",
    "newList=myList.copy()\n",
    "print(newList)\n",
    "\n",
    "myList[1]=myList[1]*7\n",
    "print(myList)\n",
    "\n",
    "myList=myList[::-1]\n",
    "print(myList)\n",
    "\n",
    "myList.pop(0)\n",
    "print(myList)\n",
    "\n",
    "print(newList)"
   ]
  },
  {
   "cell_type": "markdown",
   "metadata": {},
   "source": [
    "### Exercise 2\n",
    "Write Python code in the cell below to complete the following tasks. Please print the result of each step to screen.\n",
    "\n",
    "(a) Create a string whose content is `Wendy`.\n",
    "\n",
    "(b) Create a second string whose content is `Wellesley`.\n",
    "\n",
    "(c) Concatenate these two strings to form a third string `Wendy Wellesley` (with a space between them).\n",
    "\n",
    "(d) Concatenate the first two strings to form a fourth string `Wendy2Wellesley`."
   ]
  },
  {
   "cell_type": "code",
   "execution_count": 12,
   "metadata": {},
   "outputs": [
    {
     "name": "stdout",
     "output_type": "stream",
     "text": [
      "Wendy\n",
      "Wellesley\n",
      "Wendy Wellesley\n",
      "Wendy2Wellesley\n"
     ]
    }
   ],
   "source": [
    "# Exercise 2\n",
    "Wendy=\"Wendy\"\n",
    "print(Wendy)\n",
    "\n",
    "Wellesley=\"Wellesley\"\n",
    "print(Wellesley)\n",
    "\n",
    "WendyWellesley = Wendy+' '+Wellesley\n",
    "print(WendyWellesley)\n",
    "\n",
    "Wendy2Wellesley=Wendy+\"2\"+Wellesley\n",
    "print(Wendy2Wellesley)"
   ]
  },
  {
   "cell_type": "markdown",
   "metadata": {},
   "source": [
    "## Exercise 3\n",
    "(a) Predict the return of the print statement in the cell below and then run the cell to confirm your prediction. What will happen to the printout if you change the first line of code to, say, `r = 3`? Explain.\n",
    "\n",
    "(b) Use the example in part (a) to add another line of code to the cell below, so that the second line of the printout reads:\n",
    "\n",
    "     the area of the circle is A = ###,\n",
    "     \n",
    "where ###  is the correct value of `A` for the `r` you have selected. Please make sure that the printout changes \"automatically\" if `r` is assigned to a different value in the first line."
   ]
  },
  {
   "cell_type": "code",
   "execution_count": 35,
   "metadata": {},
   "outputs": [
    {
     "name": "stdout",
     "output_type": "stream",
     "text": [
      "If the radius of a circle is r = 3 ,\n",
      "the area of the circle is A = 28.274333882308138\n",
      "the area of the circle is A = 28.274333882308138\n"
     ]
    }
   ],
   "source": [
    "# Exercise 3\n",
    "r = 3\n",
    "A = np.pi*r**2 # np.pi is the numerical value of pi\n",
    "print('If the radius of a circle is r =', r, ',')\n",
    "print(\"the area of the circle is A =\",A)\n",
    "\n",
    "\n",
    "#if we say r = 3 then, pi*3^2 would equal around 28.26 \n",
    "\n",
    "print(\"the area of the circle is A =\",A)\n"
   ]
  },
  {
   "cell_type": "markdown",
   "metadata": {},
   "source": [
    "## Exercise 4 (optional)\n",
    "(a) Add Python code to the cell below to create a single **string variable**, whose value looks identical to the entire first line of the printout in Exercise 4, and then print this string to screen.\n",
    "\n",
    "(b) Create another **string variable**, whose value looks identical to the entire second line of the printout in Exercise 4, and then print this string to screen.\n",
    "\n",
    "(c) Make sure that your code works for any value of `r`.\n",
    "\n",
    "(d) Comment on the similarities and the differences between the methods in Exercises 3 and 4."
   ]
  },
  {
   "cell_type": "code",
   "execution_count": 39,
   "metadata": {},
   "outputs": [
    {
     "name": "stdout",
     "output_type": "stream",
     "text": [
      "If the radius of a circle is r = 1 ,\n",
      "the area of the circle is A = 3.141592653589793\n"
     ]
    }
   ],
   "source": [
    "# Exercise 4, parts (a-c). (Please use a single cell)\n",
    "\n",
    "r = 1\n",
    "A = np.pi*r**2\n",
    "\n",
    "print('If the radius of a circle is r =', str(r), ',')\n",
    "print(\"the area of the circle is A =\",str(A))\n",
    "\n",
    "#the \"type\" for the entirety of the lines in this exercise will be a string\n"
   ]
  },
  {
   "cell_type": "markdown",
   "metadata": {},
   "source": [
    "Exercies 4, part (d): "
   ]
  },
  {
   "cell_type": "markdown",
   "metadata": {},
   "source": [
    "### Exercise 5\n",
    "We know from kinematics that if the initial position of an object is $x_i$ and its velocity is $v$, its final position $x_f$ after a short time interval $\\Delta t$ is given by\n",
    "\n",
    "$$x_f=x_i+v \\Delta t.\\ \\ \\ \\ \\ \\ \\ \\ \\ \\ \\ \\ \\ \\  (1)$$\n",
    "\n",
    "We will use this formula to find the positions of an object after several consecutive time intervals and print the results to the screen using the following steps.\n",
    "\n",
    "(a) Create 4 variables — `xi`, `xf`, `v`, and `delta_t` — to represent the quantities in Eq. (1) and initialize their values to 0, 0, 2, and 1, respectively. Print the value of `xi` to screen.\n",
    "\n",
    "(b) Calculate the final position using Eq. (1) and assign the return to `xf`. Print the value of `xf` to screen. (This is the position after one time step of `delta_t`.)\n",
    "\n",
    "(c) To calculate the position after the next time step, we make the final position from the previous step (`xf`) the new initial position (`xi`). Write a line of code to do this. \n",
    "\n",
    "(d) Re-calculate `xf` using Eq. (1) and print the updated value to screen.\n",
    "\n",
    "(e) Repeat parts (c) and (d) one more time. \n",
    "\n",
    "(f) Do the values printed to the screen agree with your expectation? Now re-run your code using (i) `delta_t` = 1.0 and (ii) `delta_t` = 0.1, and explain why the printouts are now floating points. "
   ]
  },
  {
   "cell_type": "code",
   "execution_count": 29,
   "metadata": {},
   "outputs": [
    {
     "name": "stdout",
     "output_type": "stream",
     "text": [
      "0\n",
      "2\n",
      "2\n",
      "4\n",
      "4\n",
      "6\n"
     ]
    }
   ],
   "source": [
    "# Exercise 5, parts (a-e).\n",
    "# Please use a single cell for parts (a-e).\n",
    "\n",
    "xi=0 \n",
    "xf=0 \n",
    "v=2 \n",
    "delta_t=1 \n",
    "\n",
    "print(xi)\n",
    "xf=xi+v*delta_t\n",
    "print(xf)\n",
    "\n",
    "xi=xf\n",
    "print(xi)\n",
    "\n",
    "xf=xi+v*delta_t\n",
    "print(xf)\n",
    "\n",
    "xi=xf\n",
    "print(xi)\n",
    "\n",
    "xf=xi+v*delta_t\n",
    "print(xf)"
   ]
  },
  {
   "cell_type": "markdown",
   "metadata": {},
   "source": [
    "Exercies 5, part (f): \n"
   ]
  },
  {
   "cell_type": "code",
   "execution_count": 31,
   "metadata": {},
   "outputs": [
    {
     "name": "stdout",
     "output_type": "stream",
     "text": [
      "0\n",
      "2.0\n",
      "0\n",
      "0.2\n"
     ]
    }
   ],
   "source": [
    "xi=0 \n",
    "xf=0 \n",
    "v=2 \n",
    "delta_t=1.0\n",
    "\n",
    "print(xi)\n",
    "xf=xi+v*delta_t\n",
    "print(xf)\n",
    "\n",
    "#if we multiply an integer with a float, it will output a float\n",
    "\n",
    "xi=0 \n",
    "xf=0 \n",
    "v=2 \n",
    "delta_t=0.1\n",
    "\n",
    "print(xi)\n",
    "xf=xi+v*delta_t\n",
    "print(xf)"
   ]
  },
  {
   "cell_type": "code",
   "execution_count": null,
   "metadata": {},
   "outputs": [],
   "source": []
  }
 ],
 "metadata": {
  "kernelspec": {
   "display_name": "Python 3 (ipykernel)",
   "language": "python",
   "name": "python3"
  },
  "language_info": {
   "codemirror_mode": {
    "name": "ipython",
    "version": 3
   },
   "file_extension": ".py",
   "mimetype": "text/x-python",
   "name": "python",
   "nbconvert_exporter": "python",
   "pygments_lexer": "ipython3",
   "version": "3.9.7"
  }
 },
 "nbformat": 4,
 "nbformat_minor": 2
}
