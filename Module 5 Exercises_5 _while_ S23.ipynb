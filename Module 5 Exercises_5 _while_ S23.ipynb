{
 "cells": [
  {
   "cell_type": "markdown",
   "metadata": {},
   "source": [
    "# Module 5 Exercises_5 ( `while-loops`)\n",
    "Please use Module 5 and online references to complete the following exercises. Before you start, please run the following cell to load the libraries that we will need for our exercises."
   ]
  },
  {
   "cell_type": "code",
   "execution_count": 1,
   "metadata": {},
   "outputs": [],
   "source": [
    "# numpy is the main Python array library\n",
    "import numpy as np # \"as np\" allows us to use the abbreviation np for convenience"
   ]
  },
  {
   "cell_type": "markdown",
   "metadata": {},
   "source": [
    "### Exercise 1\n",
    "This exercise shows how installment payment of a loan works. Suppose you borrow $\\$ 10,000$ from a bank on January 1st at an annual interest rate of 6%, and you are scheduled to pay back the loan with a monthly payment of $\\$ 1,000$. This is how the loan payment works from month to month:\n",
    "1. Your first payment is on February 1. By this time, the balance of your loan is actually more than the original amount of $\\$ 10,000$, because you have accumulated an additional interest charge of $\\$ 10,000 \\times 0.06/12 = \\$ 50$. \n",
    "2. Thus, $\\$ 50$ of your first $\\$ 1,000$ payment is used to pay the interest that has accumulated during the previous month, and the rest, $\\$ 1,000 - \\$ 50 = \\$ 950$, is for paying down the principal. In other words, $\\$ 50$ is your **interest payment**, and $\\$ 950$ is your **principal payment**; the sum, $\\$ 10,000$, is your monthly loan payment, which is fixed until the last month.\n",
    "3. This means that the remaining balance of your loan on February 1 (after your first monthly payment) is $\\$ 10,000 - \\$ 950 = \\$ 9,050$, which will be used for calculating next month's interest and principal payments (the sum of the two is still $\\$ 1,000$). \n",
    "\n",
    "(a) Write a few lines of code (no loop yet) that will calculate the interest and principal payments for the first three months, and print to screen — **on a single line** — every month's total payment, principal payment (depending on the month), interest payment (depending on the month), and the balance of the loan. Tips for coding:\n",
    "* You don't need to use lists for any quantities in this exercise.\n",
    "* Create variables for all quantities you will need for your calculations, and assign initial values at the top of your code.\n",
    "* After the initial assignment of variable values, your computer code should only contain commands to update the variables using existing variable names (such as `balance = balance - principalPayment`); direct numerical assignment, such as `interestPayment = 50` should be avoided. \n",
    "* Discuss your coding strategy with your groupmates. Sometimes using diagrams and flow charts can be helpful.\n",
    "\n",
    "Answers: The first few lines:\n",
    ">[Payment, Principal, Interest, Balance]<div>\n",
    ">[1000, 950.0, 50.0, 9050.0]<div>\n",
    ">[1000, 954.75, 45.25, 8095.25]<div>\n",
    "\n",
    "(b) Decide where in the code you want to check to see if you have paid off the loan. (This is where the `while` loop returns to in each iteration.)\n",
    "\n",
    "(c) In a separate cell, convert your code to a `while` loop so that it can print every month's total payment, principal and interest payments and the loan balance to screen. Please keep in mind that the last month's calculation should be handled separately, because the balance of the loan for that month is probably non-zero, but smaller than than the $\\$ 1,000$ payment for the previous months. That is, you don't want to pay the bank more than what you owe them. Can you manually count the total number of months you have made payments (including the last month), and also add up your total payment to the bank? (Answer: 11 months and $\\$ 10,284.80$.)\n"
   ]
  },
  {
   "cell_type": "code",
   "execution_count": 4,
   "metadata": {},
   "outputs": [
    {
     "name": "stdout",
     "output_type": "stream",
     "text": [
      "[1000, 950.0, 50.0, 9050.0]\n",
      "[1000, 954.75, 45.25, 8095.25]\n",
      "[1000, 959.52375, 40.47625, 7135.72625]\n",
      "[1000, 950.0, 50.0, 9050.0]\n"
     ]
    }
   ],
   "source": [
    "# Parts (a-b)\n",
    "loanAmount = 10000\n",
    "interestRate = 0.06 / 12\n",
    "monthlyPayment = 1000\n",
    "\n",
    "#a)\n",
    "# Calculate payment breakdown for first month\n",
    "interestPayment = loanAmount * interestRate\n",
    "principalPayment = monthlyPayment - interestPayment\n",
    "balance = loanAmount - principalPayment\n",
    "\n",
    "# Print first month's payment breakdown\n",
    "print([monthlyPayment, principalPayment, interestPayment, balance])\n",
    "\n",
    "# Calculate payment breakdown for second month\n",
    "interestPayment = balance * interestRate\n",
    "principalPayment = monthlyPayment - interestPayment\n",
    "balance = balance - principalPayment\n",
    "\n",
    "# Print second month's payment breakdown\n",
    "print([monthlyPayment, principalPayment, interestPayment, balance])\n",
    "\n",
    "# Calculate payment breakdown for third month\n",
    "interestPayment = balance * interestRate\n",
    "principalPayment = monthlyPayment - interestPayment\n",
    "balance = balance - principalPayment\n",
    "\n",
    "# Print third month's payment breakdown\n",
    "print([monthlyPayment, principalPayment, interestPayment, balance])\n",
    "\n",
    "\n",
    "#b)\n",
    "numMonths = 0\n",
    "totalPayment = 0\n",
    "\n",
    "# Calculate payment breakdown for first month\n",
    "interestPayment = loanAmount * interestRate\n",
    "principalPayment = monthlyPayment - interestPayment\n",
    "balance = loanAmount - principalPayment\n",
    "\n",
    "# Print first month's payment breakdown\n",
    "print([monthlyPayment, principalPayment, interestPayment, balance])"
   ]
  },
  {
   "cell_type": "code",
   "execution_count": 3,
   "metadata": {},
   "outputs": [
    {
     "name": "stdout",
     "output_type": "stream",
     "text": [
      "[1000.0, 950.0, 50.0, 9050.0]\n",
      "[1000.0, 954.75, 45.25, 8095.25]\n",
      "[1000.0, 959.52375, 40.47625, 7135.72625]\n",
      "[1000.0, 964.32136875, 35.67863125, 6171.40488125]\n",
      "[1000.0, 969.14297559375, 30.857024406249998, 5202.26190565625]\n",
      "[1000.0, 973.9886904717188, 26.01130952828125, 4228.273215184531]\n",
      "[1000.0, 978.8586339240774, 21.141366075922658, 3249.414581260454]\n",
      "[1000.0, 983.7529270936977, 16.247072906302268, 2265.6616541667563]\n",
      "[1000.0, 988.6716917291662, 11.328308270833782, 1276.98996243759]\n",
      "[1000.0, 993.615050187812, 6.38494981218795, 283.37491224977805]\n",
      "[284.79178681102695, 283.37491224977805, 1.4168745612488902, 0.0]\n",
      "Total months: 11\n",
      "Total payment: 10284.79\n"
     ]
    }
   ],
   "source": [
    "# Exercise 1, Part (c)\n",
    "loanAmount = 10000\n",
    "interestRate = 0.06 / 12\n",
    "monthlyPayment = 1000\n",
    "month = 1\n",
    "totalPayment = 0\n",
    "\n",
    "while loanAmount > 0:\n",
    "    # Calculate payment breakdown for this month\n",
    "    interestPayment = loanAmount * interestRate\n",
    "    principalPayment = min(monthlyPayment - interestPayment, loanAmount)\n",
    "    payment = principalPayment + interestPayment\n",
    "    balance = loanAmount - principalPayment\n",
    "\n",
    "    # Print this month's payment breakdown\n",
    "    print([payment, principalPayment, interestPayment, balance])\n",
    "\n",
    "    # Update total payment and month counter\n",
    "    totalPayment += payment\n",
    "    month += 1\n",
    "\n",
    "    # Update loan amount for next month\n",
    "    loanAmount = balance\n",
    "\n",
    "print(\"Total months:\", month - 1)\n",
    "print(\"Total payment:\", round(totalPayment, 2))"
   ]
  },
  {
   "cell_type": "markdown",
   "metadata": {},
   "source": [
    "### Exercise 2\n",
    "(a) Revise your code for Exercise 1 to add a \"counter\" `n` to keep track of the number of months you have made payments (including the last month), so that you don't have to count manually. Print the total number of months to screen. (Answer: 11 months)\n",
    "\n",
    "(b) Modify the code again, so that it will keep track of the total interest payment. (This means creating a new variable and updating it every month.) Print to the screen: How long it will take to pay off the loan, and the total interest payment. (Answers: 11 months and $\\$ 284.80$.)\n",
    "\n",
    "(c) Repeat Part (b) for a lower monthly payment of $\\$ 500$ and a higher annual interest rate of 20% (not unusual for credit cards). (Answers: 25 months and $\\$ 2,266.06$.)\n",
    "\n",
    "(d) If you buy a house with a $\\$ 500,000$ loan at a 6% annual interest rate, and you pay back $\\$ 5,000$ a month, how long will it take you to pay off the loan? What is your total interest payment? (Answers: **139 months** and $\\$ 194,878.89$.)\n",
    "\n",
    "(e) (**Optional**) Please note that the payment method described here is also the working principle behind an **amortization schedule** for mortgage payments, which shows you how much you have to pay each month if you want to pay off a loan after a certain length of time. You can find many online mortgage calculators. For example: open https://www.bankrate.com/calculators/mortgages/loan-calculator.aspx\n",
    "\n",
    "Enter the following information:\n",
    "1. Loan amount: $\\$ 500,000$ \n",
    "2. Loan term in years: 10\n",
    "3. Interest rate per year: 6%\n",
    "\n",
    "After clicking the \"Calculate\" button, you will see a monthly payment of $\\$ 5,551.03$, a total principal payment of $\\$ 500,000$, and a total interest payment of $\\$ 166,123.01$. Do these agree with your results (within a few pennies) if you choose $\\$ 5,551.03$ for your monthly payment? Click on \"Show amortization schedule\" to see if their schedule agrees with yours."
   ]
  },
  {
   "cell_type": "code",
   "execution_count": 9,
   "metadata": {},
   "outputs": [
    {
     "name": "stdout",
     "output_type": "stream",
     "text": [
      "Total number of months:  11\n"
     ]
    }
   ],
   "source": [
    "# Exercise 2, Part (a)\n",
    "# Input variables\n",
    "loanAmount = 10000.0\n",
    "interestRate = 0.06/12\n",
    "monthlyPayment = 1000.0\n",
    "balance = loanAmount\n",
    "n = 0\n",
    "\n",
    "interestPayment = balance * interestRate\n",
    "principalPayment = monthlyPayment - interestPayment\n",
    "balance -= principalPayment\n",
    "n += 1\n",
    "#print([n, monthlyPayment, principalPayment, interestPayment, balance])\n",
    "\n",
    "while balance > 0:\n",
    "    interestPayment = balance * interestRate\n",
    "    principalPayment = monthlyPayment - interestPayment\n",
    "    balance -= principalPayment\n",
    "    n += 1\n",
    "    if balance < 0:\n",
    "        monthlyPayment += balance\n",
    "        principalPayment = monthlyPayment - interestPayment\n",
    "        balance = 0\n",
    "    #print([n, monthlyPayment, principalPayment, interestPayment, balance])\n",
    "\n",
    "print(\"Total number of months: \", n)"
   ]
  },
  {
   "cell_type": "code",
   "execution_count": 11,
   "metadata": {},
   "outputs": [
    {
     "name": "stdout",
     "output_type": "stream",
     "text": [
      "Time to pay off loan:  11 months\n",
      "Total interest paid: $ 284.79\n"
     ]
    }
   ],
   "source": [
    "# Exercise 2, Part (b)\n",
    "loanAmount = 10000.0\n",
    "interestRate = 0.06/12\n",
    "monthlyPayment = 1000.0\n",
    "balance = loanAmount\n",
    "n = 0\n",
    "totalInterest = 0\n",
    "\n",
    "interestPayment = balance * interestRate\n",
    "principalPayment = monthlyPayment - interestPayment\n",
    "balance -= principalPayment\n",
    "totalInterest += interestPayment\n",
    "n += 1\n",
    "#print([n, monthlyPayment, principalPayment, interestPayment, balance])\n",
    "\n",
    "while balance > 0:\n",
    "    interestPayment = balance * interestRate\n",
    "    principalPayment = monthlyPayment - interestPayment\n",
    "    balance -= principalPayment\n",
    "    totalInterest += interestPayment\n",
    "    n += 1\n",
    "    if balance < 0:\n",
    "        monthlyPayment += balance\n",
    "        principalPayment = monthlyPayment - interestPayment\n",
    "        balance = 0\n",
    "    #print([n, monthlyPayment, principalPayment, interestPayment, balance])\n",
    "\n",
    "print(\"Time to pay off loan: \", n, \"months\")\n",
    "print(\"Total interest paid: $\", round(totalInterest, 2))"
   ]
  },
  {
   "cell_type": "code",
   "execution_count": 16,
   "metadata": {},
   "outputs": [
    {
     "name": "stdout",
     "output_type": "stream",
     "text": [
      "It will take 25 months to pay off the loan.\n",
      "Total interest payment: 2266.07\n"
     ]
    }
   ],
   "source": [
    "# Exercise 2, Part (c)\n",
    "loanAmount = 10000\n",
    "annualInterestRate = 0.20\n",
    "monthlyInterestRate = annualInterestRate / 12\n",
    "monthlyPayment = 500\n",
    "balance = loanAmount\n",
    "n = 0\n",
    "totalInterest = 0\n",
    "\n",
    "while balance > 0:\n",
    "    n += 1\n",
    "    interestPayment = balance * monthlyInterestRate\n",
    "    totalInterest += interestPayment\n",
    "    principalPayment = monthlyPayment - interestPayment\n",
    "    balance -= principalPayment\n",
    "    if balance < 0:\n",
    "        principalPayment += balance\n",
    "        balance = 0\n",
    "\n",
    "print(\"It will take\", n, \"months to pay off the loan.\")\n",
    "print(\"Total interest payment:\", round(totalInterest, 2))"
   ]
  },
  {
   "cell_type": "code",
   "execution_count": 18,
   "metadata": {},
   "outputs": [
    {
     "name": "stdout",
     "output_type": "stream",
     "text": [
      "Total number of months: 139\n",
      "Total interest payment: $ 194878.9\n"
     ]
    }
   ],
   "source": [
    "# Exercise 2, Parts (d, e)\n",
    "loanAmount = 500000\n",
    "monthlyPayment = 5000\n",
    "interestRate = 0.06/12\n",
    "balance = loanAmount\n",
    "n = 0\n",
    "totalInterest = 0\n",
    "\n",
    "while balance > 0:\n",
    "    n += 1\n",
    "    interestPayment = balance * interestRate\n",
    "    principalPayment = monthlyPayment - interestPayment\n",
    "    balance -= principalPayment\n",
    "    totalInterest += interestPayment\n",
    "    \n",
    "    if balance < 0:\n",
    "        principalPayment += balance\n",
    "        monthlyPayment -= balance\n",
    "        balance = 0\n",
    "print(\"Total number of months:\", n)\n",
    "print(\"Total interest payment: $\", round(totalInterest, 2))"
   ]
  },
  {
   "attachments": {
    "image.png": {
     "image/png": "[encoded data removed]"
    }
   },
   "cell_type": "markdown",
   "metadata": {},
   "source": [
    "### Exercise 3\n",
    "The motion of two objects are described by the following functions of time $t$:\n",
    "\n",
    "$$x_1(t) = t \\ \\ \\ \\ \\ \\ \\ \\ \\ \\ \\ \\ \\ \\ \\ \\ \\  (1)$$\n",
    "$$x_2(t) = cos(t) \\ \\ \\ \\ \\ \\ \\ \\ \\ \\ (2)$$\n",
    "\n",
    "When do the two objects meet during the time interval [0, 1]? Mathematically, this means finding a root of a diplacement function $\\Delta x(t)$:\n",
    "\n",
    "$$\\Delta x(t) = cos(t) - t = 0 \\ \\ \\ \\ \\ \\ \\ \\ (3)$$\n",
    "\n",
    "\n",
    "\n",
    "(a) Make a plot of $x_1(t)$ and $x_2(t)$ in the range [0, 1]. (Please review Module 4 if you need a refresher on how to make plots.)\n",
    "\n",
    "**Reminder**: You need to do<br>\n",
    "> `Import matplotlib.pyplot as plt`<br>\n",
    "`%matplotlib inline`\n",
    "\n",
    "to make a graph; the second line allows you to plot the graph directly after the cell that contains the plot command.\n",
    "\n",
    "(b) Since Eq. (3) cannot be solved analytically, we will need to use numerical methods. Since $\\Delta x$ is a continuous function of $t$, if it goes through 0 at some point (call it `tSolution`), then $\\Delta x$ at a point slightly to the left of `tSolution` and at a point slightly to the right of `tSolution` should have opposite signs. This allows us to a **binary search** method to find a numerical solution, which is illustrated and described below:\n",
    "\n",
    "![image.png](attachment:image.png)\n",
    "\n",
    "1. Create an evenly spaced, 3-element NumPy list for `t`, with the beginning point at `tLeft = 0` and the end point at `tRight = 1`. (Which command is the easiest for doing this?)\n",
    "2. Evaluate the displacement function `dx` (Eq. (3)) at `t`.\n",
    "3. Develop a procedure for reducing the range of `t` by either moving `tLeft` to the middle point, or by moving `tRight` to the middle point, depending on the signs of `dx` at these three points. (For the situation illustrated above, the middle point should be the new `tLeft`.) As you can see, this method allows the range of search for `tSolution` to be reduced by a factor of 2 each time; hence the name **binary search**.)<br>\n",
    "(**Hint**: You will need to use `if-elif-else` statements here. You also have to take into consideration the possibility that `dx = 0` is at any of these three points. **Please discuss your coding strategy with your group members and with your course instructors**.)\n",
    "4. Repeat Step 3 two more times, and use print statements to make sure that your \"brackets\" (`tLeft` and `tRight`) are closing in to `tSolution`. (You can estimate the value of `tSolution` from your graph in Part (a).)\n",
    "\n",
    "(c) Decide where in the code you want to check to see if the current range is small enough to meet a certain level of precision (for example, `(tRight - tLeft) < 1e-6`). (This is where the `while` loop returns to in each iteration.)\n",
    "\n",
    "(d) Convert your code to a `while` loop using steps similar to those in the previous `while` loop exercises, and find the numerical solution that satisfies Eq. (3) within the precision you have specified. (**Answer**: 0.739085; you can check your answer using https://www.wolframalpha.com/.) \n",
    "\n",
    "(e) (**Optional**) You can include a \"counter\" in your code to see how many steps it takes to find an answer using this method. Experiment with different levels of precision (by a few orders of magnitude) to see how the number of steps depends on the precision. This demonstrates the efficiency of a binary search."
   ]
  },
  {
   "cell_type": "code",
   "execution_count": 29,
   "metadata": {},
   "outputs": [],
   "source": [
    "# we use matplotlib for plotting graphs\n",
    "import numpy as np\n",
    "import matplotlib.pyplot as plt"
   ]
  },
  {
   "cell_type": "code",
   "execution_count": 28,
   "metadata": {},
   "outputs": [
    {
     "data": {
      "image/png": "[encoded data removed]",
      "text/plain": [
       "<Figure size 432x288 with 1 Axes>"
      ]
     },
     "metadata": {
      "needs_background": "light"
     },
     "output_type": "display_data"
    }
   ],
   "source": [
    "# Exercise 3\n",
    "def x1(t):\n",
    "    return t\n",
    "\n",
    "def x2(t):\n",
    "    return np.cos(t)\n",
    "\n",
    "t_values = np.linspace(0, 1, 1000)\n",
    "x1_values = x1(t_values)\n",
    "x2_values = x2(t_values)\n",
    "\n",
    "plt.plot(t_values, x1_values, label='x1(t) = t')\n",
    "plt.plot(t_values, x2_values, label='x2(t) = cos(t)')\n",
    "plt.legend()\n",
    "plt.xlabel('t')\n",
    "plt.ylabel('x')\n",
    "plt.show()"
   ]
  },
  {
   "cell_type": "code",
   "execution_count": 30,
   "metadata": {},
   "outputs": [
    {
     "name": "stdout",
     "output_type": "stream",
     "text": [
      "Bracketing root between t = 0.5 and t = 1\n",
      "Bracketing root between t = 0.5 and t = 0.75\n",
      "Bracketing root between t = 0.625 and t = 0.75\n"
     ]
    }
   ],
   "source": [
    "# Exercise 3, Part (b): move the bracket without a loop\n",
    "\n",
    "def dx(t):\n",
    "    return np.cos(t) - t\n",
    "\n",
    "t_left = 0\n",
    "t_right = 1\n",
    "\n",
    "for i in range(3):\n",
    "    t_mid = (t_left + t_right) / 2\n",
    "    dx_left = dx(t_left)\n",
    "    dx_mid = dx(t_mid)\n",
    "    dx_right = dx(t_right)\n",
    "\n",
    "    if dx_left == 0:\n",
    "        print(f\"Found root at t = {t_left}\")\n",
    "        break\n",
    "    elif dx_mid == 0:\n",
    "        print(f\"Found root at t = {t_mid}\")\n",
    "        break\n",
    "    elif dx_right == 0:\n",
    "        print(f\"Found root at t = {t_right}\")\n",
    "        break\n",
    "    elif np.sign(dx_left) != np.sign(dx_mid):\n",
    "        t_right = t_mid\n",
    "    elif np.sign(dx_mid) != np.sign(dx_right):\n",
    "        t_left = t_mid\n",
    "\n",
    "    print(f\"Bracketing root between t = {t_left} and t = {t_right}\")"
   ]
  },
  {
   "cell_type": "code",
   "execution_count": 31,
   "metadata": {},
   "outputs": [
    {
     "data": {
      "image/png": "[encoded data removed]",
      "text/plain": [
       "<Figure size 432x288 with 1 Axes>"
      ]
     },
     "metadata": {
      "needs_background": "light"
     },
     "output_type": "display_data"
    },
    {
     "name": "stdout",
     "output_type": "stream",
     "text": [
      "The root is: 0.7390847206115723\n"
     ]
    }
   ],
   "source": [
    "# Exercise 3, Part (c): where should \"while\" go?\n",
    "def x1(t):\n",
    "    return t\n",
    "\n",
    "def x2(t):\n",
    "    return np.cos(t)\n",
    "\n",
    "def dx(t):\n",
    "    return x2(t) - x1(t)\n",
    "\n",
    "t_values = np.linspace(0, 1, 1000)\n",
    "x1_values = x1(t_values)\n",
    "x2_values = x2(t_values)\n",
    "\n",
    "plt.plot(t_values, x1_values, label=\"x1(t)\")\n",
    "plt.plot(t_values, x2_values, label=\"x2(t)\")\n",
    "plt.legend()\n",
    "plt.xlabel(\"t\")\n",
    "plt.ylabel(\"x(t)\")\n",
    "plt.show()\n",
    "\n",
    "t_left = 0\n",
    "t_right = 1\n",
    "precision = 1e-6\n",
    "\n",
    "while (t_right - t_left) > precision:\n",
    "    t_mid = (t_left + t_right) / 2\n",
    "    dx_left = dx(t_left)\n",
    "    dx_mid = dx(t_mid)\n",
    "    dx_right = dx(t_right)\n",
    "    \n",
    "    if dx_left == 0:\n",
    "        print(\"The root is:\", t_left)\n",
    "        break\n",
    "    elif dx_mid == 0:\n",
    "        print(\"The root is:\", t_mid)\n",
    "        break\n",
    "    elif dx_right == 0:\n",
    "        print(\"The root is:\", t_right)\n",
    "        break\n",
    "    elif dx_left * dx_mid < 0:\n",
    "        t_right = t_mid\n",
    "    elif dx_mid * dx_right < 0:\n",
    "        t_left = t_mid\n",
    "\n",
    "print(\"The root is:\", (t_left + t_right) / 2)"
   ]
  },
  {
   "cell_type": "code",
   "execution_count": 26,
   "metadata": {},
   "outputs": [
    {
     "name": "stdout",
     "output_type": "stream",
     "text": [
      "The solution is: 0.5\n"
     ]
    }
   ],
   "source": [
    "# Exercise 3, Part (d): convert to a while-loop"
   ]
  },
  {
   "cell_type": "code",
   "execution_count": null,
   "metadata": {},
   "outputs": [],
   "source": []
  }
 ],
 "metadata": {
  "kernelspec": {
   "display_name": "Python 3 (ipykernel)",
   "language": "python",
   "name": "python3"
  },
  "language_info": {
   "codemirror_mode": {
    "name": "ipython",
    "version": 3
   },
   "file_extension": ".py",
   "mimetype": "text/x-python",
   "name": "python",
   "nbconvert_exporter": "python",
   "pygments_lexer": "ipython3",
   "version": "3.9.7"
  }
 },
 "nbformat": 4,
 "nbformat_minor": 2
}
