{
 "cells": [
  {
   "cell_type": "markdown",
   "metadata": {},
   "source": [
    "# Module 5 Exercises_4 ( `while-loops`)\n",
    "Please use Module 5 and online references to complete the following exercises. Before you start, please run the following cell to load the libraries that we will need for our exercises."
   ]
  },
  {
   "cell_type": "code",
   "execution_count": 4,
   "metadata": {},
   "outputs": [],
   "source": [
    "# numpy is the main Python array library\n",
    "import numpy as np # \"as np\" allows us to use the abbreviation np for convenience\n",
    "\n"
   ]
  },
  {
   "attachments": {
    "image.png": {
     "image/png": "[encoded data removed]"
    }
   },
   "cell_type": "markdown",
   "metadata": {},
   "source": [
    "### Exercise 1\n",
    "The following pictures show the number of dots that form equilateral triangles of various sizes. \n",
    "![image.png](attachment:image.png)\n",
    "\n",
    "Starting from the 0th number, the first few terms in the triangular number series are: 0, 1, 3, 6, 10, 15, ... (Hint: What do you notice about the increment of the numbers in the series?)\n",
    "\n",
    "We want to write a `while` loop that will generate a **list** that contains all triangular numbers with the largest value less than, say, `maxT = 1000`. We will do this in a few steps (**without using indexing** in this Exercise):\n",
    "\n",
    "(a) Write a few lines of code (no loop yet) to accomplish the following task:\n",
    "1. Create a variable `newT` and assign a value of 0 to it. Also create a Python list `T` and assign to it a single element that is equal to the current value of `newT`. This is the first element in the triangular list. Print `T`.\n",
    "2. Create a new variable `incrementT` and set its value to 1. This is the increment needed for calculating the next element in `T`.\n",
    "3. Calculate the next element in the triangular series by using `newT` and `incrementT` and assign this value back to `newT`.\n",
    "4. Concatenate the existing list `T` with `newT` using the `np.hstack` command and assign the result back to `T`. Print `T` again.\n",
    "5. Update the value of `incrementT` to get ready for calculating the next element in the triangular series. \n",
    "6. Repeat steps 3-5 two more times.\n",
    "\n",
    "(b) **Look for repeating units** in the code and decide where in the code you want to check to see if `newT < maxT` is still true. Insert a note for yourself in the code (after a pound sign #) where this logical test should take place. (This is where the `while` loop returns to in each iteration.) \n",
    "\n",
    "(c) In a separate cell, copy and paste your code from Parts (a) and (b). Convert your code to a `while` loop by using the following steps:\n",
    "* At the place where you had decided to conduct the `while` loop logical test, insert a line of code for the head of the `while` loop. (Pay attention to the syntax.)\n",
    "* Indent **one repeating unit** of your code for the `while` loop to execute in each iteration, and delete the other repeating units. \n",
    "\n",
    "After converting your code to a `while` loop, test your code to see if it can generate a list `T` of triangular number series up to `maxT = 15`. (You need to create the variable `maxT` and assign it a value.) After everything is working, change `maxT` to 1000. You may want to comment out all of the print statements except one at the end (after the `while` loop) that will print `T` once."
   ]
  },
  {
   "cell_type": "code",
   "execution_count": null,
   "metadata": {},
   "outputs": [],
   "source": [
    "# Exercise 1\n",
    "# Triangular number series.\n",
    "# Part (a)\n",
    "\n",
    "newT = 0\n",
    "T = [newT]\n",
    "print(T)\n",
    "\n",
    "incrementT = 1\n",
    "\n",
    "newT += incrementT\n",
    "T = np.hstack((T, newT))\n",
    "print(T)\n",
    "\n",
    "incrementT += 1\n",
    "newT += incrementT\n",
    "T = np.hstack((T, newT))\n",
    "print(T)\n",
    "\n",
    "incrementT += 1\n",
    "newT += incrementT\n",
    "T = np.hstack((T, newT))\n",
    "print(T)"
   ]
  },
  {
   "cell_type": "code",
   "execution_count": 3,
   "metadata": {},
   "outputs": [],
   "source": [
    "# Exercise 1, Part (b)\n",
    "\n",
    "newT = 0\n",
    "T = [newT]\n",
    "print(T)\n",
    "\n",
    "incrementT = 1\n",
    "\n",
    "newT += incrementT\n",
    "T = np.hstack((T, newT))\n",
    "print(T)\n",
    "\n",
    "incrementT += 1\n",
    "newT += incrementT\n",
    "T = np.hstack((T, newT))\n",
    "print(T)\n",
    "\n",
    "incrementT += 1\n",
    "newT += incrementT\n",
    "T = np.hstack((T, newT))\n",
    "print(T)# insert while loop test for newT < maxT here"
   ]
  },
  {
   "cell_type": "code",
   "execution_count": 4,
   "metadata": {},
   "outputs": [
    {
     "name": "stdout",
     "output_type": "stream",
     "text": [
      "[0]\n",
      "[0 1]\n",
      "[0 1 3]\n",
      "[   0    1    3    6   10   15   21   28   36   45   55   66   78   91\n",
      "  105  120  136  153  171  190  210  231  253  276  300  325  351  378\n",
      "  406  435  465  496  528  561  595  630  666  703  741  780  820  861\n",
      "  903  946  990 1035]\n"
     ]
    }
   ],
   "source": [
    "# Exercise 1, Part (c)\n",
    "newT = 0\n",
    "T = [newT]\n",
    "print(T)\n",
    "\n",
    "# Step 2\n",
    "incrementT = 1\n",
    "\n",
    "# Step 3-5\n",
    "newT += incrementT\n",
    "T = np.hstack((T, newT))\n",
    "print(T)\n",
    "\n",
    "incrementT += 1\n",
    "newT += incrementT\n",
    "T = np.hstack((T, newT))\n",
    "print(T)\n",
    "\n",
    "incrementT += 1\n",
    "\n",
    "# While loop\n",
    "while newT < 1000:  # while loop test\n",
    "    newT += incrementT\n",
    "    T = np.hstack((T, newT))\n",
    "    incrementT += 1\n",
    "\n",
    "print(T)"
   ]
  },
  {
   "cell_type": "markdown",
   "metadata": {},
   "source": [
    "### Exercise 2\n",
    "Create the triangular series in Exercise 1 again by using indexing.\n",
    "\n",
    "(a) Write a few lines of code (no loop yet) to accomplish the following task:\n",
    "1. Create a Python list `T` and assign to it a single element of value 0. This is the first element in the triangular list. Print `T`.\n",
    "2. Create a variable `newT` for the next element in the triangular series and assign to it a value of `T[0] + 1`. \n",
    "3. Concatenate the existing list `T` with `newT` using the `np.hstack` command and assign the result back to `T`. Print `T` again.\n",
    "4. Update the value of `newT` to be `T[1] + 2`. (This is the next element in the triangular series.) \n",
    "5. Write a few more steps similar to Steps 3 and 4 to add a few more elements to the triangular series `T`. \n",
    "\n",
    "(b) Replace the numerical values (0, 1, 2, etc.) in Part (a) with an index `n`. Assign an initial value of `n` at the beginning part of your code and update its value later using commands such as `n = n + 1` (but not with direct assignment such as `n = 3`). Make sure that you get exactly the same result as that in Part (a). (See Example 5.3.2 in Module 5's Jupyter notebook.)\n",
    "\n",
    "(c) **Look for repeating units** in the code and decide where in the code you want to check to see if the requirement of \"less than maxT\" is still true. Insert a note for yourself in the code (after a pound sign #) where this logical test should take place. (This is where the `while` loop returns to in each iteration.) You need to define maxT first, of course.\n",
    "\n",
    "(d) Convert your code to a `while` loop so that it can generate a triangular number series up to `maxT = 15`. After everything is working, change `maxT` to 1000. You may want to comment out all of the print statements except the one after the `while` loop."
   ]
  },
  {
   "cell_type": "code",
   "execution_count": 10,
   "metadata": {},
   "outputs": [
    {
     "name": "stdout",
     "output_type": "stream",
     "text": [
      "[0]\n",
      "[0 1]\n",
      "[0 1 3]\n",
      "[0 1 3 6]\n",
      "[ 0  1  3  6 10]\n"
     ]
    }
   ],
   "source": [
    "# Exercise 2, Triangular number series.\n",
    "# Part (a)\n",
    "T=[0]\n",
    "print(T)\n",
    "\n",
    "newT=T[0]+1\n",
    "T=np.hstack((T,newT))\n",
    "print(T)\n",
    "\n",
    "newT=T[1]+2\n",
    "T=np.hstack((T,newT))\n",
    "print(T)\n",
    "\n",
    "newT=T[2]+3\n",
    "T=np.hstack((T,newT))\n",
    "print(T)\n",
    "\n",
    "newT=T[3]+4\n",
    "T=np.hstack((T,newT))\n",
    "print(T)"
   ]
  },
  {
   "cell_type": "code",
   "execution_count": 11,
   "metadata": {},
   "outputs": [
    {
     "name": "stdout",
     "output_type": "stream",
     "text": [
      "[0]\n",
      "[0 1]\n",
      "[0 1 3]\n",
      "[0 1 3 6]\n",
      "[ 0  1  3  6 10]\n"
     ]
    }
   ],
   "source": [
    "# Exercise 2, Part (b) \n",
    "n = 0\n",
    "T = [n]\n",
    "print(T)\n",
    "\n",
    "n = n + 1\n",
    "newT = T[0] + n\n",
    "T = np.hstack((T, newT))\n",
    "print(T)\n",
    "\n",
    "n = n + 1\n",
    "newT = T[1] + n\n",
    "T = np.hstack((T, newT))\n",
    "print(T)\n",
    "\n",
    "n = n + 1\n",
    "newT = T[2] + n\n",
    "T = np.hstack((T, newT))\n",
    "print(T)\n",
    "\n",
    "n = n + 1\n",
    "newT = T[3] + n\n",
    "T = np.hstack((T, newT))\n",
    "print(T)"
   ]
  },
  {
   "cell_type": "code",
   "execution_count": 14,
   "metadata": {},
   "outputs": [
    {
     "name": "stdout",
     "output_type": "stream",
     "text": [
      "[0]\n",
      "[0 1]\n",
      "[0 1 3]\n",
      "[0 1 3 6]\n",
      "[ 0  1  3  6 10]\n"
     ]
    }
   ],
   "source": [
    "# Exercise 2, Part (c) \n",
    "n = 0\n",
    "T = [n]\n",
    "print(T)\n",
    "\n",
    "n = n + 1\n",
    "newT = T[0] + n\n",
    "T = np.hstack((T, newT))\n",
    "print(T)\n",
    "\n",
    "n = n + 1\n",
    "newT = T[1] + n\n",
    "T = np.hstack((T, newT))\n",
    "print(T)\n",
    "\n",
    "n = n + 1\n",
    "newT = T[2] + n\n",
    "if newT < 15:  # Insert the logical test here\n",
    "    T = np.hstack((T, newT))\n",
    "print(T)\n",
    "\n",
    "n = n + 1\n",
    "newT = T[3] + n\n",
    "if newT < 15:  # Insert the logical test here\n",
    "    T = np.hstack((T, newT))\n",
    "print(T)"
   ]
  },
  {
   "cell_type": "code",
   "execution_count": 7,
   "metadata": {},
   "outputs": [
    {
     "name": "stdout",
     "output_type": "stream",
     "text": [
      "[0]\n",
      "[ 0  1  3  6 10 15]\n"
     ]
    }
   ],
   "source": [
    "# Exercise 2, Part (d)\n",
    "n = 0\n",
    "T = [n]\n",
    "print(T)\n",
    "\n",
    "maxT = 15  \n",
    "newT=0\n",
    "while newT < maxT:  \n",
    "    n = n + 1\n",
    "    newT = T[-1] + n\n",
    "    T = np.hstack((T, newT))\n",
    "print(T)"
   ]
  },
  {
   "attachments": {
    "image.png": {
     "image/png": "[encoded data removed]"
    }
   },
   "cell_type": "markdown",
   "metadata": {},
   "source": [
    "### Exercise 3\n",
    "**Please note:  You can get started on this exercise, but don't need to turn it in this week. This problem will show up in the next set of exercises on `while` loops.** \n",
    "\n",
    "The motion of two objects are described by the following functions of time $t$:\n",
    "\n",
    "$$x_1(t) = t \\ \\ \\ \\ \\ \\ \\ \\ \\ \\ \\ \\ \\ \\ \\ \\ \\  (1)$$\n",
    "$$x_2(t) = cos(t) \\ \\ \\ \\ \\ \\ \\ \\ \\ \\ (2)$$\n",
    "\n",
    "When do the two objects meet during the time interval [0, 1]? Mathematically, this means finding a root of a diplacement function $\\Delta x(t)$:\n",
    "\n",
    "$$\\Delta x(t) = cos(t) - t = 0 \\ \\ \\ \\ \\ \\ \\ \\ (3)$$\n",
    "\n",
    "\n",
    "\n",
    "(a) Make a plot of $x_1(t)$ and $x_2(t)$ in the range [0, 1]. (Please review Module 4 if you need a refresher on how to make plots.)\n",
    "\n",
    "**Reminder**: You need to do<br>\n",
    "> `Import matplotlib.pyplot as plt`<br>\n",
    "`%matplotlib inline`\n",
    "\n",
    "to make a graph; the second line allows you to plot the graph directly after the cell that contains the plot command.\n",
    "\n",
    "(b) Since Eq. (3) cannot be solved analytically, we will need to use numerical methods. Since $\\Delta x$ is a continuous function of $t$, if it goes through 0 at some point (call it `tSolution`), then $\\Delta x$ at a point slightly to the left of `tSolution` and at a point slightly to the right of `tSolution` should have opposite signs. This allows us to a **binary search** method to find a numerical solution, which is illustrated and described below:\n",
    "\n",
    "![image.png](attachment:image.png)\n",
    "\n",
    "1. Create an evenly spaced, 3-element NumPy list for `t`, with the beginning point at `tLeft = 0` and the end point at `tRight = 1`. (Which command is the easiest for doing this?)\n",
    "2. Calculate the displacement at all three values of `t` using Eq. (3) and assign the result to a list `dx`.\n",
    "3. Develop a procedure for reducing the range of `t` by either assigning the current middle point to `tLeft`, or by assigning the current middle point to `tRight`, depending on the signs of `dx` at these three points. You are going to need to use if-elif-else statements here. You also have to take into consideration the possibility that `dx` is 0 at any of these three points. **Please discuss the strategy with your group members and with course instructors.** (This allows the range of `t` to be reduced by a factor of 2 each time; hence the name **binary search**.)\n",
    "4. Repeat Step 3 two more times, and use print statements to make sure that your \"brackets\" (`tLeft` and `tRight`) are closing in to `tSolution`. (You can estimate the value of `tSolution` from your graph in Part (a).)\n",
    "\n",
    "(c) Decide where in the code you want to check to see if the current range is small enough to meet a certain level of precision (for example, `(tRight - tLeft) < 1e-6`). (This is where the `while` loop returns to in each iteration.)\n",
    "\n",
    "(d) Convert your code to a `while` loop using steps similar to those in the previous `while` loop exercises, and find the numerical solution that satisfies Eq. (3) within the precision you have specified. (**Answer**: 0.739085; you can check your answer using https://www.wolframalpha.com/.) \n",
    "\n",
    "(e) (**Optional**) You can include a \"counter\" in your code to see how many steps it takes to find an answer using this method. Experiment with different levels of precision (by a few orders of magnitude) to see how the number of steps depends on the precision. This demonstrates the efficiency of a binary search."
   ]
  },
  {
   "cell_type": "code",
   "execution_count": 9,
   "metadata": {},
   "outputs": [],
   "source": [
    "# we use matplotlib for plotting graphs\n",
    "import matplotlib.pyplot as plt\n",
    "%matplotlib inline"
   ]
  },
  {
   "cell_type": "code",
   "execution_count": 10,
   "metadata": {},
   "outputs": [
    {
     "data": {
      "image/png": "[encoded data removed]",
      "text/plain": [
       "<Figure size 432x288 with 1 Axes>"
      ]
     },
     "metadata": {
      "needs_background": "light"
     },
     "output_type": "display_data"
    }
   ],
   "source": [
    "# Exercise 3\n",
    "# Part (a): plot the functions\n",
    "\n",
    "t = np.linspace(0, 1, 1000)\n",
    "x1 = t\n",
    "x2 = np.cos(t)\n",
    "\n",
    "plt.plot(t, x1, label='x1(t) = t')\n",
    "plt.plot(t, x2, label='x2(t) = cos(t)')\n",
    "plt.legend()\n",
    "plt.show()"
   ]
  },
  {
   "cell_type": "code",
   "execution_count": 21,
   "metadata": {},
   "outputs": [],
   "source": [
    "# Exercise 3, Part (b): move the bracket without a loop\n",
    "# Define the function for the displacement"
   ]
  },
  {
   "cell_type": "code",
   "execution_count": 22,
   "metadata": {},
   "outputs": [],
   "source": [
    "# Exercise 3, Part (c): where should \"while\" go?\n",
    "\n"
   ]
  },
  {
   "cell_type": "code",
   "execution_count": 28,
   "metadata": {},
   "outputs": [
    {
     "name": "stdout",
     "output_type": "stream",
     "text": [
      "The numerical solution is: 0.7390851974487305\n"
     ]
    }
   ],
   "source": [
    "# Exercise 3, Part (d): convert to a while-loop\n",
    "# Define the function to solve\n",
    "\n",
    "import numpy as np\n",
    "\n",
    "# Define the function that needs to be solved\n",
    "def f(t):\n",
    "    return np.cos(t) - t\n",
    "\n",
    "# Set the tolerance and initial brackets\n",
    "tolerance = 1e-6\n",
    "tLeft = 0\n",
    "tRight = 1\n",
    "\n",
    "# Binary search loop\n",
    "while (tRight - tLeft) < tolerance:\n",
    "    tMid = (tLeft + tRight) / 2\n",
    "    if f(tMid) == 0:\n",
    "        break\n",
    "    elif np.sign(f(tMid)) == np.sign(f(tLeft)):\n",
    "        tLeft = tMid\n",
    "    else:\n",
    "        tRight = tMid\n",
    "\n",
    "# Print the numerical solution\n",
    "print(\"The numerical solution is:\", tMid)"
   ]
  },
  {
   "cell_type": "code",
   "execution_count": null,
   "metadata": {},
   "outputs": [],
   "source": []
  },
  {
   "cell_type": "code",
   "execution_count": null,
   "metadata": {},
   "outputs": [],
   "source": []
  }
 ],
 "metadata": {
  "kernelspec": {
   "display_name": "Python 3 (ipykernel)",
   "language": "python",
   "name": "python3"
  },
  "language_info": {
   "codemirror_mode": {
    "name": "ipython",
    "version": 3
   },
   "file_extension": ".py",
   "mimetype": "text/x-python",
   "name": "python",
   "nbconvert_exporter": "python",
   "pygments_lexer": "ipython3",
   "version": "3.9.7"
  }
 },
 "nbformat": 4,
 "nbformat_minor": 2
}
